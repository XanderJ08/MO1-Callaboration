{
 "cells": [
  {
   "cell_type": "code",
   "execution_count": 11,
   "id": "cec537c9",
   "metadata": {},
   "outputs": [],
   "source": [
    "things = [\"mozzarella\", \"cinderella\", \"salmonella\"]"
   ]
  },
  {
   "cell_type": "code",
   "execution_count": 13,
   "id": "6767c1ba",
   "metadata": {},
   "outputs": [
    {
     "data": {
      "text/plain": [
       "'Cinderella'"
      ]
     },
     "execution_count": 13,
     "metadata": {},
     "output_type": "execute_result"
    }
   ],
   "source": [
    "things[1].capitalize()"
   ]
  },
  {
   "cell_type": "code",
   "execution_count": 14,
   "id": "5cef4602",
   "metadata": {},
   "outputs": [
    {
     "name": "stdout",
     "output_type": "stream",
     "text": [
      "['mozzarella', 'cinderella', 'salmonella']\n"
     ]
    }
   ],
   "source": [
    "print (things)"
   ]
  },
  {
   "cell_type": "markdown",
   "id": "1977c9d6",
   "metadata": {},
   "source": [
    "7.5: It did not change it in the list"
   ]
  },
  {
   "cell_type": "code",
   "execution_count": 15,
   "id": "08ab1418",
   "metadata": {},
   "outputs": [
    {
     "data": {
      "text/plain": [
       "'MOZZARELLA'"
      ]
     },
     "execution_count": 15,
     "metadata": {},
     "output_type": "execute_result"
    }
   ],
   "source": [
    "things[0].upper()"
   ]
  },
  {
   "cell_type": "code",
   "execution_count": 16,
   "id": "c191a384",
   "metadata": {},
   "outputs": [
    {
     "name": "stdout",
     "output_type": "stream",
     "text": [
      "['mozzarella', 'cinderella', 'salmonella']\n"
     ]
    }
   ],
   "source": [
    "print (things)"
   ]
  },
  {
   "cell_type": "code",
   "execution_count": 18,
   "id": "52c8ed98",
   "metadata": {},
   "outputs": [
    {
     "ename": "IndexError",
     "evalue": "list assignment index out of range",
     "output_type": "error",
     "traceback": [
      "\u001b[1;31m---------------------------------------------------------------------------\u001b[0m",
      "\u001b[1;31mIndexError\u001b[0m                                Traceback (most recent call last)",
      "Input \u001b[1;32mIn [18]\u001b[0m, in \u001b[0;36m<cell line: 1>\u001b[1;34m()\u001b[0m\n\u001b[1;32m----> 1\u001b[0m \u001b[38;5;28;01mdel\u001b[39;00m things[\u001b[38;5;241m2\u001b[39m]\n",
      "\u001b[1;31mIndexError\u001b[0m: list assignment index out of range"
     ]
    }
   ],
   "source": [
    "del things[2]"
   ]
  },
  {
   "cell_type": "code",
   "execution_count": 19,
   "id": "8147b9a5",
   "metadata": {},
   "outputs": [
    {
     "name": "stdout",
     "output_type": "stream",
     "text": [
      "['mozzarella', 'cinderella']\n"
     ]
    }
   ],
   "source": [
    "print (things)"
   ]
  },
  {
   "cell_type": "code",
   "execution_count": 20,
   "id": "3d4d9d8a",
   "metadata": {},
   "outputs": [],
   "source": [
    "def good():\n",
    "    characters = ['Harry', 'Ron', 'Hermione']\n",
    "    return characters"
   ]
  },
  {
   "cell_type": "code",
   "execution_count": 21,
   "id": "85f127c4",
   "metadata": {},
   "outputs": [
    {
     "data": {
      "text/plain": [
       "['Harry', 'Ron', 'Hermione']"
      ]
     },
     "execution_count": 21,
     "metadata": {},
     "output_type": "execute_result"
    }
   ],
   "source": [
    "good()"
   ]
  },
  {
   "cell_type": "code",
   "execution_count": 79,
   "id": "3db21f54",
   "metadata": {},
   "outputs": [],
   "source": [
    "def get_odds():\n",
    "    odd_numbers = range(1,10,2)\n",
    "    step = 5\n",
    "    for i in odd_numbers:\n",
    "        if i == step:\n",
    "            print (f\"The Third number printed is {i}.\")\n",
    "    \n",
    "           "
   ]
  },
  {
   "cell_type": "code",
   "execution_count": 80,
   "id": "889aeeba",
   "metadata": {},
   "outputs": [
    {
     "name": "stdout",
     "output_type": "stream",
     "text": [
      "The Third number printed is 5.\n"
     ]
    }
   ],
   "source": [
    "get_odds()"
   ]
  },
  {
   "cell_type": "code",
   "execution_count": null,
   "id": "71350292",
   "metadata": {},
   "outputs": [],
   "source": []
  }
 ],
 "metadata": {
  "kernelspec": {
   "display_name": "Python 3 (ipykernel)",
   "language": "python",
   "name": "python3"
  },
  "language_info": {
   "codemirror_mode": {
    "name": "ipython",
    "version": 3
   },
   "file_extension": ".py",
   "mimetype": "text/x-python",
   "name": "python",
   "nbconvert_exporter": "python",
   "pygments_lexer": "ipython3",
   "version": "3.9.12"
  }
 },
 "nbformat": 4,
 "nbformat_minor": 5
}
